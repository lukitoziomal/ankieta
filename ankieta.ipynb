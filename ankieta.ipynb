{
 "cells": [
  {
   "cell_type": "code",
   "execution_count": 156,
   "metadata": {},
   "outputs": [],
   "source": [
    "import pandas as pd\n",
    "df = pd.read_excel('Ankieta.xlsx')\n",
    "del df['Unnamed: 14']\n",
    "df['Ilość lat służby'] = df['Ilość lat służby'].apply(lambda x: '2 - 5' if ('2 - 5' in x) else x)"
   ]
  },
  {
   "cell_type": "markdown",
   "metadata": {},
   "source": [
    "# 1. Udzial w przesluchaniu"
   ]
  },
  {
   "cell_type": "code",
   "execution_count": 157,
   "metadata": {},
   "outputs": [
    {
     "data": {
      "text/plain": [
       "Tak    80\n",
       "Nie     8\n",
       "Name: Udział w przesłuchaniu, dtype: int64"
      ]
     },
     "execution_count": 157,
     "metadata": {},
     "output_type": "execute_result"
    }
   ],
   "source": [
    "df.iloc[:, 1].value_counts()"
   ]
  },
  {
   "cell_type": "code",
   "execution_count": 158,
   "metadata": {},
   "outputs": [
    {
     "data": {
      "text/plain": [
       "Ilość lat służby  Udział w przesłuchaniu\n",
       "10 - 15           Nie                        1\n",
       "                  Tak                       27\n",
       "2 - 5             Nie                        4\n",
       "                  Tak                       10\n",
       "6 - 10            Nie                        1\n",
       "                  Tak                       16\n",
       "Nie dotyczy       Tak                        2\n",
       "Poniżej 2         Nie                        2\n",
       "                  Tak                        3\n",
       "Powyżej 15        Tak                       22\n",
       "Name: Udział w przesłuchaniu, dtype: int64"
      ]
     },
     "execution_count": 158,
     "metadata": {},
     "output_type": "execute_result"
    }
   ],
   "source": [
    "df.groupby(['Ilość lat służby', 'Udział w przesłuchaniu'])['Udział w przesłuchaniu'].count()"
   ]
  },
  {
   "cell_type": "code",
   "execution_count": 159,
   "metadata": {},
   "outputs": [
    {
     "data": {
      "text/plain": [
       "Płeć       Udział w przesłuchaniu\n",
       "Kobieta    Nie                        1\n",
       "           Tak                       24\n",
       "Mężczyzna  Nie                        7\n",
       "           Tak                       56\n",
       "Name: Udział w przesłuchaniu, dtype: int64"
      ]
     },
     "execution_count": 159,
     "metadata": {},
     "output_type": "execute_result"
    }
   ],
   "source": [
    "df.groupby(['Płeć', 'Udział w przesłuchaniu'])['Udział w przesłuchaniu'].count()"
   ]
  },
  {
   "cell_type": "markdown",
   "metadata": {},
   "source": [
    "# 2. Kursy"
   ]
  },
  {
   "cell_type": "code",
   "execution_count": 160,
   "metadata": {
    "scrolled": true
   },
   "outputs": [
    {
     "data": {
      "text/plain": [
       "Nie    52\n",
       "Tak    36\n",
       "Name: Kursy, dtype: int64"
      ]
     },
     "execution_count": 160,
     "metadata": {},
     "output_type": "execute_result"
    }
   ],
   "source": [
    "df.iloc[:, 2].value_counts()"
   ]
  },
  {
   "cell_type": "code",
   "execution_count": 161,
   "metadata": {},
   "outputs": [
    {
     "data": {
      "text/plain": [
       "Ilość lat służby  Kursy\n",
       "10 - 15           Nie      15\n",
       "                  Tak      13\n",
       "2 - 5             Nie      12\n",
       "                  Tak       2\n",
       "6 - 10            Nie      11\n",
       "                  Tak       6\n",
       "Nie dotyczy       Tak       2\n",
       "Poniżej 2         Nie       4\n",
       "                  Tak       1\n",
       "Powyżej 15        Nie      10\n",
       "                  Tak      12\n",
       "Name: Kursy, dtype: int64"
      ]
     },
     "execution_count": 161,
     "metadata": {},
     "output_type": "execute_result"
    }
   ],
   "source": [
    "df.groupby(['Ilość lat służby', 'Kursy'])['Kursy'].count()"
   ]
  },
  {
   "cell_type": "code",
   "execution_count": 162,
   "metadata": {
    "scrolled": true
   },
   "outputs": [
    {
     "data": {
      "text/plain": [
       "Wiek        Kursy\n",
       "18-25       Nie       5\n",
       "            Tak       2\n",
       "26-35       Nie      28\n",
       "            Tak      14\n",
       "36-45       Nie      18\n",
       "            Tak      14\n",
       "Powyżej 45  Nie       1\n",
       "            Tak       6\n",
       "Name: Kursy, dtype: int64"
      ]
     },
     "execution_count": 162,
     "metadata": {},
     "output_type": "execute_result"
    }
   ],
   "source": [
    "df.groupby(['Wiek', 'Kursy'])['Kursy'].count()"
   ]
  },
  {
   "cell_type": "markdown",
   "metadata": {},
   "source": [
    "# 3. Umiejetnosci praktyczne"
   ]
  },
  {
   "cell_type": "code",
   "execution_count": 163,
   "metadata": {
    "scrolled": true
   },
   "outputs": [
    {
     "data": {
      "text/plain": [
       "Tak    87\n",
       "Nie     1\n",
       "Name: umiejętności praktyczne, dtype: int64"
      ]
     },
     "execution_count": 163,
     "metadata": {},
     "output_type": "execute_result"
    }
   ],
   "source": [
    "df.iloc[:, 3].value_counts()"
   ]
  },
  {
   "cell_type": "code",
   "execution_count": 164,
   "metadata": {},
   "outputs": [
    {
     "data": {
      "text/plain": [
       "Ilość lat służby  umiejętności praktyczne\n",
       "10 - 15           Nie                         1\n",
       "                  Tak                        27\n",
       "2 - 5             Tak                        14\n",
       "6 - 10            Tak                        17\n",
       "Nie dotyczy       Tak                         2\n",
       "Poniżej 2         Tak                         5\n",
       "Powyżej 15        Tak                        22\n",
       "Name: umiejętności praktyczne, dtype: int64"
      ]
     },
     "execution_count": 164,
     "metadata": {},
     "output_type": "execute_result"
    }
   ],
   "source": [
    "df.groupby(['Ilość lat służby', 'umiejętności praktyczne'])['umiejętności praktyczne'].count()\n",
    "#jeden debil tyle pracuje i nic nie umie"
   ]
  },
  {
   "cell_type": "markdown",
   "metadata": {},
   "source": [
    "# 4. Umiejetnosci teoretyczne"
   ]
  },
  {
   "cell_type": "code",
   "execution_count": 165,
   "metadata": {},
   "outputs": [
    {
     "data": {
      "text/plain": [
       "Tak    65\n",
       "Nie    23\n",
       "Name: umiejetnosci teoretyczne, dtype: int64"
      ]
     },
     "execution_count": 165,
     "metadata": {},
     "output_type": "execute_result"
    }
   ],
   "source": [
    "df.iloc[:, 4].value_counts()"
   ]
  },
  {
   "cell_type": "code",
   "execution_count": 166,
   "metadata": {},
   "outputs": [
    {
     "data": {
      "text/plain": [
       "Ilość lat służby  umiejetnosci teoretyczne\n",
       "10 - 15           Nie                         10\n",
       "                  Tak                         18\n",
       "2 - 5             Nie                          2\n",
       "                  Tak                         12\n",
       "6 - 10            Nie                          5\n",
       "                  Tak                         12\n",
       "Nie dotyczy       Nie                          1\n",
       "                  Tak                          1\n",
       "Poniżej 2         Nie                          1\n",
       "                  Tak                          4\n",
       "Powyżej 15        Nie                          4\n",
       "                  Tak                         18\n",
       "Name: umiejetnosci teoretyczne, dtype: int64"
      ]
     },
     "execution_count": 166,
     "metadata": {},
     "output_type": "execute_result"
    }
   ],
   "source": [
    "df.groupby(['Ilość lat służby', 'umiejetnosci teoretyczne'])['umiejetnosci teoretyczne'].count()"
   ]
  },
  {
   "cell_type": "code",
   "execution_count": 167,
   "metadata": {
    "scrolled": true
   },
   "outputs": [
    {
     "data": {
      "text/plain": [
       "Kursy  umiejetnosci teoretyczne\n",
       "Nie    Nie                         13\n",
       "       Tak                         39\n",
       "Tak    Nie                         10\n",
       "       Tak                         26\n",
       "Name: umiejetnosci teoretyczne, dtype: int64"
      ]
     },
     "execution_count": 167,
     "metadata": {},
     "output_type": "execute_result"
    }
   ],
   "source": [
    "df.groupby(['Kursy', 'umiejetnosci teoretyczne'])['umiejetnosci teoretyczne'].count()"
   ]
  },
  {
   "cell_type": "markdown",
   "metadata": {},
   "source": [
    "# 5. Stosowanie przemocy"
   ]
  },
  {
   "cell_type": "code",
   "execution_count": 168,
   "metadata": {
    "scrolled": true
   },
   "outputs": [
    {
     "data": {
      "text/plain": [
       "W uzasadnionych przypadkach    57\n",
       "Nie                            29\n",
       "Tak                             2\n",
       "Name: stos. Przemocy, dtype: int64"
      ]
     },
     "execution_count": 168,
     "metadata": {},
     "output_type": "execute_result"
    }
   ],
   "source": [
    "df.iloc[:, 5].value_counts()"
   ]
  },
  {
   "cell_type": "code",
   "execution_count": 169,
   "metadata": {
    "scrolled": true
   },
   "outputs": [
    {
     "data": {
      "text/plain": [
       "Ilość lat służby  stos. Przemocy             \n",
       "10 - 15           Nie                             6\n",
       "                  Tak                             2\n",
       "                  W uzasadnionych przypadkach    20\n",
       "2 - 5             Nie                             3\n",
       "                  W uzasadnionych przypadkach    11\n",
       "6 - 10            Nie                             7\n",
       "                  W uzasadnionych przypadkach    10\n",
       "Nie dotyczy       W uzasadnionych przypadkach     2\n",
       "Poniżej 2         Nie                             1\n",
       "                  W uzasadnionych przypadkach     4\n",
       "Powyżej 15        Nie                            12\n",
       "                  W uzasadnionych przypadkach    10\n",
       "Name: stos. Przemocy, dtype: int64"
      ]
     },
     "execution_count": 169,
     "metadata": {},
     "output_type": "execute_result"
    }
   ],
   "source": [
    "df.groupby(['Ilość lat służby', 'stos. Przemocy'])['stos. Przemocy'].count()"
   ]
  },
  {
   "cell_type": "markdown",
   "metadata": {},
   "source": [
    "# 6. Wywieranie presji"
   ]
  },
  {
   "cell_type": "code",
   "execution_count": 170,
   "metadata": {
    "scrolled": true
   },
   "outputs": [
    {
     "data": {
      "text/plain": [
       "Tak     36\n",
       "Może    35\n",
       "Nie     17\n",
       "Name: wywieranie presji, dtype: int64"
      ]
     },
     "execution_count": 170,
     "metadata": {},
     "output_type": "execute_result"
    }
   ],
   "source": [
    "df.iloc[:, 6].value_counts()"
   ]
  },
  {
   "cell_type": "code",
   "execution_count": 171,
   "metadata": {
    "scrolled": true
   },
   "outputs": [
    {
     "data": {
      "text/plain": [
       "Ilość lat służby  wywieranie presji\n",
       "10 - 15           Może                 12\n",
       "                  Nie                   2\n",
       "                  Tak                  14\n",
       "2 - 5             Może                  6\n",
       "                  Nie                   2\n",
       "                  Tak                   6\n",
       "6 - 10            Może                  5\n",
       "                  Nie                   4\n",
       "                  Tak                   8\n",
       "Nie dotyczy       Nie                   1\n",
       "                  Tak                   1\n",
       "Poniżej 2         Może                  3\n",
       "                  Nie                   1\n",
       "                  Tak                   1\n",
       "Powyżej 15        Może                  9\n",
       "                  Nie                   7\n",
       "                  Tak                   6\n",
       "Name: wywieranie presji, dtype: int64"
      ]
     },
     "execution_count": 171,
     "metadata": {},
     "output_type": "execute_result"
    }
   ],
   "source": [
    "df.groupby(['Ilość lat służby', 'wywieranie presji'])['wywieranie presji'].count()"
   ]
  },
  {
   "cell_type": "code",
   "execution_count": 172,
   "metadata": {
    "scrolled": true
   },
   "outputs": [
    {
     "data": {
      "text/plain": [
       "wywieranie presji  stos. Przemocy             \n",
       "Może               Nie                             5\n",
       "                   W uzasadnionych przypadkach    30\n",
       "Nie                Nie                            13\n",
       "                   W uzasadnionych przypadkach     4\n",
       "Tak                Nie                            11\n",
       "                   Tak                             2\n",
       "                   W uzasadnionych przypadkach    23\n",
       "Name: stos. Przemocy, dtype: int64"
      ]
     },
     "execution_count": 172,
     "metadata": {},
     "output_type": "execute_result"
    }
   ],
   "source": [
    "df.groupby(['wywieranie presji', 'stos. Przemocy'])['stos. Przemocy'].count()"
   ]
  },
  {
   "cell_type": "markdown",
   "metadata": {},
   "source": [
    "# 7. Podejrzani klamia"
   ]
  },
  {
   "cell_type": "code",
   "execution_count": 173,
   "metadata": {},
   "outputs": [
    {
     "data": {
      "text/plain": [
       "Tak     63\n",
       "Nie     21\n",
       "Może     4\n",
       "Name: wiekszosc podejrzanych kłamie, dtype: int64"
      ]
     },
     "execution_count": 173,
     "metadata": {},
     "output_type": "execute_result"
    }
   ],
   "source": [
    "df.iloc[:, 7].value_counts()"
   ]
  },
  {
   "cell_type": "code",
   "execution_count": 174,
   "metadata": {},
   "outputs": [
    {
     "data": {
      "text/plain": [
       "Ilość lat służby  wiekszosc podejrzanych kłamie\n",
       "10 - 15           Może                              2\n",
       "                  Nie                               4\n",
       "                  Tak                              22\n",
       "2 - 5             Może                              1\n",
       "                  Nie                               3\n",
       "                  Tak                              10\n",
       "6 - 10            Nie                               1\n",
       "                  Tak                              16\n",
       "Nie dotyczy       Nie                               1\n",
       "                  Tak                               1\n",
       "Poniżej 2         Nie                               2\n",
       "                  Tak                               3\n",
       "Powyżej 15        Może                              1\n",
       "                  Nie                              10\n",
       "                  Tak                              11\n",
       "Name: wiekszosc podejrzanych kłamie, dtype: int64"
      ]
     },
     "execution_count": 174,
     "metadata": {},
     "output_type": "execute_result"
    }
   ],
   "source": [
    "df.groupby(['Ilość lat służby', 'wiekszosc podejrzanych kłamie'])['wiekszosc podejrzanych kłamie'].count()"
   ]
  },
  {
   "cell_type": "code",
   "execution_count": 175,
   "metadata": {},
   "outputs": [
    {
     "data": {
      "text/plain": [
       "wiekszosc podejrzanych kłamie  stos. Przemocy             \n",
       "Może                           Nie                             1\n",
       "                               W uzasadnionych przypadkach     3\n",
       "Nie                            Nie                             7\n",
       "                               W uzasadnionych przypadkach    14\n",
       "Tak                            Nie                            21\n",
       "                               Tak                             2\n",
       "                               W uzasadnionych przypadkach    40\n",
       "Name: stos. Przemocy, dtype: int64"
      ]
     },
     "execution_count": 175,
     "metadata": {},
     "output_type": "execute_result"
    }
   ],
   "source": [
    "df.groupby(['wiekszosc podejrzanych kłamie', 'stos. Przemocy'])['stos. Przemocy'].count()"
   ]
  },
  {
   "cell_type": "code",
   "execution_count": 176,
   "metadata": {},
   "outputs": [
    {
     "data": {
      "text/plain": [
       "wiekszosc podejrzanych kłamie  wywieranie presji\n",
       "Może                           Może                  2\n",
       "                               Nie                   1\n",
       "                               Tak                   1\n",
       "Nie                            Może                  6\n",
       "                               Nie                   8\n",
       "                               Tak                   7\n",
       "Tak                            Może                 27\n",
       "                               Nie                   8\n",
       "                               Tak                  28\n",
       "Name: wywieranie presji, dtype: int64"
      ]
     },
     "execution_count": 176,
     "metadata": {},
     "output_type": "execute_result"
    }
   ],
   "source": [
    "df.groupby(['wiekszosc podejrzanych kłamie', 'wywieranie presji'])['wywieranie presji'].count()"
   ]
  },
  {
   "cell_type": "code",
   "execution_count": 177,
   "metadata": {},
   "outputs": [],
   "source": [
    "##########################\n",
    "def filler(x, r, b1='qwerty', b2='qqqq', b3='wwww', b4='aaaa'):\n",
    "    if x in str(r).lower() or b1 in str(r).lower() or b2 in str(r).lower() or b3 in str(r).lower() or b4 in str(r).lower():\n",
    "        return 1\n",
    "    return 0\n",
    "\n",
    "cechy = {'cierpliwosc': [], 'skrupulatnosc': [], 'stanowczosc': [], 'sluchanie': [], 'obserwacja': [],\n",
    "        'inteligencja': [], 'pewnosc siebie': []}\n",
    "for row in df.iloc[:, 8]:\n",
    "    cechy['cierpliwosc'].append(filler('cierp', row, 'spokoj', 'spokój', 'opan', 'empat'))\n",
    "    cechy['skrupulatnosc'].append(filler('skrup', row, 'anal', 'zaang', 'wnikl', 'dociekl'))\n",
    "    cechy['stanowczosc'].append(filler('stan', row, 'asert', 'syan', 'zezna'))\n",
    "    cechy['sluchanie'].append(filler('sluch', row, 'słuch'))\n",
    "    cechy['obserwacja'].append(filler('obser', row, 'fakt', 'łącz', 'lacz', 'spostrz'))\n",
    "    cechy['inteligencja'].append(filler('inteli', row, 'bystr', 'spryt', 'zmysl', 'rozs'))\n",
    "    cechy['pewnosc siebie'].append(filler('pewn', row, 'siebie'))\n",
    "df['cierpliwosc'] = cechy['cierpliwosc']\n",
    "df['skrupulatnosc'] = cechy['skrupulatnosc']\n",
    "df['stanowczosc'] = cechy['stanowczosc']\n",
    "df['sluchanie'] = cechy['sluchanie']\n",
    "df['obserwacja'] = cechy['obserwacja']\n",
    "df['inteligencja'] = cechy['inteligencja']\n",
    "df['pewnosc siebie'] = cechy['pewnosc siebie']"
   ]
  },
  {
   "cell_type": "markdown",
   "metadata": {},
   "source": [
    "# 8. Cechy"
   ]
  },
  {
   "cell_type": "code",
   "execution_count": 178,
   "metadata": {},
   "outputs": [
    {
     "data": {
      "text/plain": [
       "cierpliwosc       31\n",
       "skrupulatnosc     14\n",
       "inteligencja      11\n",
       "sluchanie         11\n",
       "stanowczosc       11\n",
       "obserwacja         9\n",
       "pewnosc siebie     5\n",
       "dtype: int64"
      ]
     },
     "execution_count": 178,
     "metadata": {},
     "output_type": "execute_result"
    }
   ],
   "source": [
    "df.iloc[:, 14:21].sum().sort_values(ascending=False)\n",
    "# + ciekawsze odpowiedzi:\n",
    "#Spokój, opanowanie i wiedza merytoryczna z zakresu KK I KPK\n",
    "#Dedukcja (wyłapywanie kłamstw podejrzanego i dostosowywanie szachujących pytań)\n",
    "#Zwięzłe formułowanie zeznań.  Umiejętność wyciągnięcia ze świadka tego co potrzebne. Strofowanie świadka gdy \n",
    "#schodzi na zbędne poboczne tematy."
   ]
  },
  {
   "cell_type": "code",
   "execution_count": 179,
   "metadata": {},
   "outputs": [
    {
     "data": {
      "text/html": [
       "<div>\n",
       "<style scoped>\n",
       "    .dataframe tbody tr th:only-of-type {\n",
       "        vertical-align: middle;\n",
       "    }\n",
       "\n",
       "    .dataframe tbody tr th {\n",
       "        vertical-align: top;\n",
       "    }\n",
       "\n",
       "    .dataframe thead th {\n",
       "        text-align: right;\n",
       "    }\n",
       "</style>\n",
       "<table border=\"1\" class=\"dataframe\">\n",
       "  <thead>\n",
       "    <tr style=\"text-align: right;\">\n",
       "      <th></th>\n",
       "      <th>cierpliwosc</th>\n",
       "      <th>skrupulatnosc</th>\n",
       "      <th>stanowczosc</th>\n",
       "      <th>sluchanie</th>\n",
       "      <th>obserwacja</th>\n",
       "      <th>inteligencja</th>\n",
       "      <th>pewnosc siebie</th>\n",
       "    </tr>\n",
       "    <tr>\n",
       "      <th>Ilość lat służby</th>\n",
       "      <th></th>\n",
       "      <th></th>\n",
       "      <th></th>\n",
       "      <th></th>\n",
       "      <th></th>\n",
       "      <th></th>\n",
       "      <th></th>\n",
       "    </tr>\n",
       "  </thead>\n",
       "  <tbody>\n",
       "    <tr>\n",
       "      <td>10 - 15</td>\n",
       "      <td>10</td>\n",
       "      <td>7</td>\n",
       "      <td>4</td>\n",
       "      <td>3</td>\n",
       "      <td>3</td>\n",
       "      <td>3</td>\n",
       "      <td>0</td>\n",
       "    </tr>\n",
       "    <tr>\n",
       "      <td>2 - 5</td>\n",
       "      <td>2</td>\n",
       "      <td>1</td>\n",
       "      <td>4</td>\n",
       "      <td>3</td>\n",
       "      <td>2</td>\n",
       "      <td>1</td>\n",
       "      <td>2</td>\n",
       "    </tr>\n",
       "    <tr>\n",
       "      <td>6 - 10</td>\n",
       "      <td>7</td>\n",
       "      <td>3</td>\n",
       "      <td>0</td>\n",
       "      <td>2</td>\n",
       "      <td>3</td>\n",
       "      <td>3</td>\n",
       "      <td>1</td>\n",
       "    </tr>\n",
       "    <tr>\n",
       "      <td>Nie dotyczy</td>\n",
       "      <td>0</td>\n",
       "      <td>1</td>\n",
       "      <td>0</td>\n",
       "      <td>0</td>\n",
       "      <td>0</td>\n",
       "      <td>0</td>\n",
       "      <td>0</td>\n",
       "    </tr>\n",
       "    <tr>\n",
       "      <td>Poniżej 2</td>\n",
       "      <td>1</td>\n",
       "      <td>0</td>\n",
       "      <td>0</td>\n",
       "      <td>0</td>\n",
       "      <td>0</td>\n",
       "      <td>0</td>\n",
       "      <td>1</td>\n",
       "    </tr>\n",
       "    <tr>\n",
       "      <td>Powyżej 15</td>\n",
       "      <td>11</td>\n",
       "      <td>2</td>\n",
       "      <td>3</td>\n",
       "      <td>3</td>\n",
       "      <td>1</td>\n",
       "      <td>4</td>\n",
       "      <td>1</td>\n",
       "    </tr>\n",
       "  </tbody>\n",
       "</table>\n",
       "</div>"
      ],
      "text/plain": [
       "                  cierpliwosc  skrupulatnosc  stanowczosc  sluchanie  \\\n",
       "Ilość lat służby                                                       \n",
       "10 - 15                    10              7            4          3   \n",
       "2 - 5                       2              1            4          3   \n",
       "6 - 10                      7              3            0          2   \n",
       "Nie dotyczy                 0              1            0          0   \n",
       "Poniżej 2                   1              0            0          0   \n",
       "Powyżej 15                 11              2            3          3   \n",
       "\n",
       "                  obserwacja  inteligencja  pewnosc siebie  \n",
       "Ilość lat służby                                            \n",
       "10 - 15                    3             3               0  \n",
       "2 - 5                      2             1               2  \n",
       "6 - 10                     3             3               1  \n",
       "Nie dotyczy                0             0               0  \n",
       "Poniżej 2                  0             0               1  \n",
       "Powyżej 15                 1             4               1  "
      ]
     },
     "execution_count": 179,
     "metadata": {},
     "output_type": "execute_result"
    }
   ],
   "source": [
    "df.iloc[:, 14:21].groupby(df['Ilość lat służby']).sum()"
   ]
  },
  {
   "cell_type": "code",
   "execution_count": 180,
   "metadata": {},
   "outputs": [
    {
     "data": {
      "text/html": [
       "<div>\n",
       "<style scoped>\n",
       "    .dataframe tbody tr th:only-of-type {\n",
       "        vertical-align: middle;\n",
       "    }\n",
       "\n",
       "    .dataframe tbody tr th {\n",
       "        vertical-align: top;\n",
       "    }\n",
       "\n",
       "    .dataframe thead th {\n",
       "        text-align: right;\n",
       "    }\n",
       "</style>\n",
       "<table border=\"1\" class=\"dataframe\">\n",
       "  <thead>\n",
       "    <tr style=\"text-align: right;\">\n",
       "      <th></th>\n",
       "      <th>cierpliwosc</th>\n",
       "      <th>skrupulatnosc</th>\n",
       "      <th>stanowczosc</th>\n",
       "      <th>sluchanie</th>\n",
       "      <th>obserwacja</th>\n",
       "      <th>inteligencja</th>\n",
       "      <th>pewnosc siebie</th>\n",
       "    </tr>\n",
       "    <tr>\n",
       "      <th>Wiek</th>\n",
       "      <th></th>\n",
       "      <th></th>\n",
       "      <th></th>\n",
       "      <th></th>\n",
       "      <th></th>\n",
       "      <th></th>\n",
       "      <th></th>\n",
       "    </tr>\n",
       "  </thead>\n",
       "  <tbody>\n",
       "    <tr>\n",
       "      <td>18-25</td>\n",
       "      <td>1</td>\n",
       "      <td>0</td>\n",
       "      <td>2</td>\n",
       "      <td>2</td>\n",
       "      <td>1</td>\n",
       "      <td>0</td>\n",
       "      <td>2</td>\n",
       "    </tr>\n",
       "    <tr>\n",
       "      <td>26-35</td>\n",
       "      <td>15</td>\n",
       "      <td>8</td>\n",
       "      <td>4</td>\n",
       "      <td>4</td>\n",
       "      <td>4</td>\n",
       "      <td>5</td>\n",
       "      <td>2</td>\n",
       "    </tr>\n",
       "    <tr>\n",
       "      <td>36-45</td>\n",
       "      <td>13</td>\n",
       "      <td>6</td>\n",
       "      <td>5</td>\n",
       "      <td>3</td>\n",
       "      <td>3</td>\n",
       "      <td>6</td>\n",
       "      <td>1</td>\n",
       "    </tr>\n",
       "    <tr>\n",
       "      <td>Powyżej 45</td>\n",
       "      <td>2</td>\n",
       "      <td>0</td>\n",
       "      <td>0</td>\n",
       "      <td>2</td>\n",
       "      <td>1</td>\n",
       "      <td>0</td>\n",
       "      <td>0</td>\n",
       "    </tr>\n",
       "  </tbody>\n",
       "</table>\n",
       "</div>"
      ],
      "text/plain": [
       "            cierpliwosc  skrupulatnosc  stanowczosc  sluchanie  obserwacja  \\\n",
       "Wiek                                                                         \n",
       "18-25                 1              0            2          2           1   \n",
       "26-35                15              8            4          4           4   \n",
       "36-45                13              6            5          3           3   \n",
       "Powyżej 45            2              0            0          2           1   \n",
       "\n",
       "            inteligencja  pewnosc siebie  \n",
       "Wiek                                      \n",
       "18-25                  0               2  \n",
       "26-35                  5               2  \n",
       "36-45                  6               1  \n",
       "Powyżej 45             0               0  "
      ]
     },
     "execution_count": 180,
     "metadata": {},
     "output_type": "execute_result"
    }
   ],
   "source": [
    "df.iloc[:, 14:21].groupby(df['Wiek']).sum()"
   ]
  },
  {
   "cell_type": "code",
   "execution_count": 181,
   "metadata": {
    "scrolled": true
   },
   "outputs": [
    {
     "data": {
      "text/html": [
       "<div>\n",
       "<style scoped>\n",
       "    .dataframe tbody tr th:only-of-type {\n",
       "        vertical-align: middle;\n",
       "    }\n",
       "\n",
       "    .dataframe tbody tr th {\n",
       "        vertical-align: top;\n",
       "    }\n",
       "\n",
       "    .dataframe thead th {\n",
       "        text-align: right;\n",
       "    }\n",
       "</style>\n",
       "<table border=\"1\" class=\"dataframe\">\n",
       "  <thead>\n",
       "    <tr style=\"text-align: right;\">\n",
       "      <th></th>\n",
       "      <th>cierpliwosc</th>\n",
       "      <th>skrupulatnosc</th>\n",
       "      <th>stanowczosc</th>\n",
       "      <th>sluchanie</th>\n",
       "      <th>obserwacja</th>\n",
       "      <th>inteligencja</th>\n",
       "      <th>pewnosc siebie</th>\n",
       "    </tr>\n",
       "    <tr>\n",
       "      <th>Płeć</th>\n",
       "      <th></th>\n",
       "      <th></th>\n",
       "      <th></th>\n",
       "      <th></th>\n",
       "      <th></th>\n",
       "      <th></th>\n",
       "      <th></th>\n",
       "    </tr>\n",
       "  </thead>\n",
       "  <tbody>\n",
       "    <tr>\n",
       "      <td>Kobieta</td>\n",
       "      <td>13</td>\n",
       "      <td>7</td>\n",
       "      <td>4</td>\n",
       "      <td>2</td>\n",
       "      <td>2</td>\n",
       "      <td>3</td>\n",
       "      <td>0</td>\n",
       "    </tr>\n",
       "    <tr>\n",
       "      <td>Mężczyzna</td>\n",
       "      <td>18</td>\n",
       "      <td>7</td>\n",
       "      <td>7</td>\n",
       "      <td>9</td>\n",
       "      <td>7</td>\n",
       "      <td>8</td>\n",
       "      <td>5</td>\n",
       "    </tr>\n",
       "  </tbody>\n",
       "</table>\n",
       "</div>"
      ],
      "text/plain": [
       "           cierpliwosc  skrupulatnosc  stanowczosc  sluchanie  obserwacja  \\\n",
       "Płeć                                                                        \n",
       "Kobieta             13              7            4          2           2   \n",
       "Mężczyzna           18              7            7          9           7   \n",
       "\n",
       "           inteligencja  pewnosc siebie  \n",
       "Płeć                                     \n",
       "Kobieta               3               0  \n",
       "Mężczyzna             8               5  "
      ]
     },
     "execution_count": 181,
     "metadata": {},
     "output_type": "execute_result"
    }
   ],
   "source": [
    "df.iloc[:, 14:21].groupby(df['Płeć']).sum()"
   ]
  },
  {
   "cell_type": "code",
   "execution_count": 182,
   "metadata": {
    "scrolled": true
   },
   "outputs": [
    {
     "data": {
      "text/html": [
       "<div>\n",
       "<style scoped>\n",
       "    .dataframe tbody tr th:only-of-type {\n",
       "        vertical-align: middle;\n",
       "    }\n",
       "\n",
       "    .dataframe tbody tr th {\n",
       "        vertical-align: top;\n",
       "    }\n",
       "\n",
       "    .dataframe thead th {\n",
       "        text-align: right;\n",
       "    }\n",
       "</style>\n",
       "<table border=\"1\" class=\"dataframe\">\n",
       "  <thead>\n",
       "    <tr style=\"text-align: right;\">\n",
       "      <th></th>\n",
       "      <th>cierpliwosc</th>\n",
       "      <th>skrupulatnosc</th>\n",
       "      <th>stanowczosc</th>\n",
       "      <th>sluchanie</th>\n",
       "      <th>obserwacja</th>\n",
       "      <th>inteligencja</th>\n",
       "      <th>pewnosc siebie</th>\n",
       "    </tr>\n",
       "    <tr>\n",
       "      <th>wywieranie presji</th>\n",
       "      <th></th>\n",
       "      <th></th>\n",
       "      <th></th>\n",
       "      <th></th>\n",
       "      <th></th>\n",
       "      <th></th>\n",
       "      <th></th>\n",
       "    </tr>\n",
       "  </thead>\n",
       "  <tbody>\n",
       "    <tr>\n",
       "      <td>Może</td>\n",
       "      <td>12</td>\n",
       "      <td>6</td>\n",
       "      <td>7</td>\n",
       "      <td>3</td>\n",
       "      <td>4</td>\n",
       "      <td>3</td>\n",
       "      <td>3</td>\n",
       "    </tr>\n",
       "    <tr>\n",
       "      <td>Nie</td>\n",
       "      <td>10</td>\n",
       "      <td>3</td>\n",
       "      <td>1</td>\n",
       "      <td>4</td>\n",
       "      <td>2</td>\n",
       "      <td>1</td>\n",
       "      <td>0</td>\n",
       "    </tr>\n",
       "    <tr>\n",
       "      <td>Tak</td>\n",
       "      <td>9</td>\n",
       "      <td>5</td>\n",
       "      <td>3</td>\n",
       "      <td>4</td>\n",
       "      <td>3</td>\n",
       "      <td>7</td>\n",
       "      <td>2</td>\n",
       "    </tr>\n",
       "  </tbody>\n",
       "</table>\n",
       "</div>"
      ],
      "text/plain": [
       "                   cierpliwosc  skrupulatnosc  stanowczosc  sluchanie  \\\n",
       "wywieranie presji                                                       \n",
       "Może                        12              6            7          3   \n",
       "Nie                         10              3            1          4   \n",
       "Tak                          9              5            3          4   \n",
       "\n",
       "                   obserwacja  inteligencja  pewnosc siebie  \n",
       "wywieranie presji                                            \n",
       "Może                        4             3               3  \n",
       "Nie                         2             1               0  \n",
       "Tak                         3             7               2  "
      ]
     },
     "execution_count": 182,
     "metadata": {},
     "output_type": "execute_result"
    }
   ],
   "source": [
    "df.iloc[:, 14:21].groupby(df['wywieranie presji']).sum()"
   ]
  },
  {
   "cell_type": "code",
   "execution_count": 183,
   "metadata": {},
   "outputs": [
    {
     "data": {
      "text/html": [
       "<div>\n",
       "<style scoped>\n",
       "    .dataframe tbody tr th:only-of-type {\n",
       "        vertical-align: middle;\n",
       "    }\n",
       "\n",
       "    .dataframe tbody tr th {\n",
       "        vertical-align: top;\n",
       "    }\n",
       "\n",
       "    .dataframe thead th {\n",
       "        text-align: right;\n",
       "    }\n",
       "</style>\n",
       "<table border=\"1\" class=\"dataframe\">\n",
       "  <thead>\n",
       "    <tr style=\"text-align: right;\">\n",
       "      <th></th>\n",
       "      <th>cierpliwosc</th>\n",
       "      <th>skrupulatnosc</th>\n",
       "      <th>stanowczosc</th>\n",
       "      <th>sluchanie</th>\n",
       "      <th>obserwacja</th>\n",
       "      <th>inteligencja</th>\n",
       "      <th>pewnosc siebie</th>\n",
       "    </tr>\n",
       "    <tr>\n",
       "      <th>Kursy</th>\n",
       "      <th></th>\n",
       "      <th></th>\n",
       "      <th></th>\n",
       "      <th></th>\n",
       "      <th></th>\n",
       "      <th></th>\n",
       "      <th></th>\n",
       "    </tr>\n",
       "  </thead>\n",
       "  <tbody>\n",
       "    <tr>\n",
       "      <td>Nie</td>\n",
       "      <td>16</td>\n",
       "      <td>8</td>\n",
       "      <td>5</td>\n",
       "      <td>5</td>\n",
       "      <td>7</td>\n",
       "      <td>7</td>\n",
       "      <td>3</td>\n",
       "    </tr>\n",
       "    <tr>\n",
       "      <td>Tak</td>\n",
       "      <td>15</td>\n",
       "      <td>6</td>\n",
       "      <td>6</td>\n",
       "      <td>6</td>\n",
       "      <td>2</td>\n",
       "      <td>4</td>\n",
       "      <td>2</td>\n",
       "    </tr>\n",
       "  </tbody>\n",
       "</table>\n",
       "</div>"
      ],
      "text/plain": [
       "       cierpliwosc  skrupulatnosc  stanowczosc  sluchanie  obserwacja  \\\n",
       "Kursy                                                                   \n",
       "Nie             16              8            5          5           7   \n",
       "Tak             15              6            6          6           2   \n",
       "\n",
       "       inteligencja  pewnosc siebie  \n",
       "Kursy                                \n",
       "Nie               7               3  \n",
       "Tak               4               2  "
      ]
     },
     "execution_count": 183,
     "metadata": {},
     "output_type": "execute_result"
    }
   ],
   "source": [
    "df.iloc[:, 14:21].groupby(df['Kursy']).sum()"
   ]
  },
  {
   "cell_type": "code",
   "execution_count": 184,
   "metadata": {},
   "outputs": [],
   "source": [
    "###########\n",
    "techniki = {'fbi': [], 'duzo pytan': [], 'podstep': [], 'nie znam': []}\n",
    "for row in df.iloc[:, 9]:\n",
    "    techniki['fbi'].append(filler('fbi', row))\n",
    "    techniki['duzo pytan'].append(filler('grad', row, 'pytań', 'pytan'))\n",
    "    techniki['podstep'].append(filler('dobry', row, 'podstep', 'podstęp'))\n",
    "    techniki['nie znam'].append(filler('nan', row, 'zadne', 'żadne', 'nie znam'))\n",
    "df['fbi'] = techniki['fbi']\n",
    "df['duzo pytan'] = techniki['duzo pytan']\n",
    "df['podstep g/b cop'] = techniki['podstep']\n",
    "df['nie znam'] = techniki['nie znam']"
   ]
  },
  {
   "cell_type": "markdown",
   "metadata": {},
   "source": [
    "# 9 Przesluchania\n",
    "#### odpowiedzi na jedno i drugie pytanie o przesluchania sa w zasadzie takie same, wiec nic ciekawego sie z tego nie wyciagnie"
   ]
  },
  {
   "cell_type": "code",
   "execution_count": 185,
   "metadata": {},
   "outputs": [
    {
     "data": {
      "text/plain": [
       "nie znam           44\n",
       "fbi                17\n",
       "duzo pytan          8\n",
       "podstep g/b cop     4\n",
       "dtype: int64"
      ]
     },
     "execution_count": 185,
     "metadata": {},
     "output_type": "execute_result"
    }
   ],
   "source": [
    "df.iloc[:, 21:].sum().sort_values(ascending=False)\n",
    "# + ciekawsze odpowiedzi:\n",
    "#Metoda Baldwina, Metoda Buckleya, tzn. hammering czy łagodny doping\n",
    "#Cognitive interview, przesluchanie standartowe, przesluchanie FBI z wyłapywaniem mowy ciała\n",
    "#Nie mam wiedzy, zrobili mnie dochodzeniowej i teraz radź sobie sam\n",
    "#wpierdol"
   ]
  },
  {
   "cell_type": "code",
   "execution_count": 186,
   "metadata": {},
   "outputs": [
    {
     "data": {
      "text/html": [
       "<div>\n",
       "<style scoped>\n",
       "    .dataframe tbody tr th:only-of-type {\n",
       "        vertical-align: middle;\n",
       "    }\n",
       "\n",
       "    .dataframe tbody tr th {\n",
       "        vertical-align: top;\n",
       "    }\n",
       "\n",
       "    .dataframe thead th {\n",
       "        text-align: right;\n",
       "    }\n",
       "</style>\n",
       "<table border=\"1\" class=\"dataframe\">\n",
       "  <thead>\n",
       "    <tr style=\"text-align: right;\">\n",
       "      <th></th>\n",
       "      <th>fbi</th>\n",
       "      <th>duzo pytan</th>\n",
       "      <th>podstep g/b cop</th>\n",
       "      <th>nie znam</th>\n",
       "    </tr>\n",
       "    <tr>\n",
       "      <th>Ilość lat służby</th>\n",
       "      <th></th>\n",
       "      <th></th>\n",
       "      <th></th>\n",
       "      <th></th>\n",
       "    </tr>\n",
       "  </thead>\n",
       "  <tbody>\n",
       "    <tr>\n",
       "      <td>10 - 15</td>\n",
       "      <td>8</td>\n",
       "      <td>2</td>\n",
       "      <td>1</td>\n",
       "      <td>11</td>\n",
       "    </tr>\n",
       "    <tr>\n",
       "      <td>2 - 5</td>\n",
       "      <td>3</td>\n",
       "      <td>2</td>\n",
       "      <td>1</td>\n",
       "      <td>7</td>\n",
       "    </tr>\n",
       "    <tr>\n",
       "      <td>6 - 10</td>\n",
       "      <td>2</td>\n",
       "      <td>2</td>\n",
       "      <td>1</td>\n",
       "      <td>12</td>\n",
       "    </tr>\n",
       "    <tr>\n",
       "      <td>Nie dotyczy</td>\n",
       "      <td>0</td>\n",
       "      <td>0</td>\n",
       "      <td>0</td>\n",
       "      <td>0</td>\n",
       "    </tr>\n",
       "    <tr>\n",
       "      <td>Poniżej 2</td>\n",
       "      <td>0</td>\n",
       "      <td>0</td>\n",
       "      <td>0</td>\n",
       "      <td>3</td>\n",
       "    </tr>\n",
       "    <tr>\n",
       "      <td>Powyżej 15</td>\n",
       "      <td>4</td>\n",
       "      <td>2</td>\n",
       "      <td>1</td>\n",
       "      <td>11</td>\n",
       "    </tr>\n",
       "  </tbody>\n",
       "</table>\n",
       "</div>"
      ],
      "text/plain": [
       "                  fbi  duzo pytan  podstep g/b cop  nie znam\n",
       "Ilość lat służby                                            \n",
       "10 - 15             8           2                1        11\n",
       "2 - 5               3           2                1         7\n",
       "6 - 10              2           2                1        12\n",
       "Nie dotyczy         0           0                0         0\n",
       "Poniżej 2           0           0                0         3\n",
       "Powyżej 15          4           2                1        11"
      ]
     },
     "execution_count": 186,
     "metadata": {},
     "output_type": "execute_result"
    }
   ],
   "source": [
    "df.iloc[:, 21:].groupby(df['Ilość lat służby']).sum()"
   ]
  },
  {
   "cell_type": "code",
   "execution_count": 187,
   "metadata": {
    "scrolled": true
   },
   "outputs": [
    {
     "data": {
      "text/html": [
       "<div>\n",
       "<style scoped>\n",
       "    .dataframe tbody tr th:only-of-type {\n",
       "        vertical-align: middle;\n",
       "    }\n",
       "\n",
       "    .dataframe tbody tr th {\n",
       "        vertical-align: top;\n",
       "    }\n",
       "\n",
       "    .dataframe thead th {\n",
       "        text-align: right;\n",
       "    }\n",
       "</style>\n",
       "<table border=\"1\" class=\"dataframe\">\n",
       "  <thead>\n",
       "    <tr style=\"text-align: right;\">\n",
       "      <th></th>\n",
       "      <th>fbi</th>\n",
       "      <th>duzo pytan</th>\n",
       "      <th>podstep g/b cop</th>\n",
       "      <th>nie znam</th>\n",
       "    </tr>\n",
       "    <tr>\n",
       "      <th>Kursy</th>\n",
       "      <th></th>\n",
       "      <th></th>\n",
       "      <th></th>\n",
       "      <th></th>\n",
       "    </tr>\n",
       "  </thead>\n",
       "  <tbody>\n",
       "    <tr>\n",
       "      <td>Nie</td>\n",
       "      <td>9</td>\n",
       "      <td>3</td>\n",
       "      <td>1</td>\n",
       "      <td>31</td>\n",
       "    </tr>\n",
       "    <tr>\n",
       "      <td>Tak</td>\n",
       "      <td>8</td>\n",
       "      <td>5</td>\n",
       "      <td>3</td>\n",
       "      <td>13</td>\n",
       "    </tr>\n",
       "  </tbody>\n",
       "</table>\n",
       "</div>"
      ],
      "text/plain": [
       "       fbi  duzo pytan  podstep g/b cop  nie znam\n",
       "Kursy                                            \n",
       "Nie      9           3                1        31\n",
       "Tak      8           5                3        13"
      ]
     },
     "execution_count": 187,
     "metadata": {},
     "output_type": "execute_result"
    }
   ],
   "source": [
    "df.iloc[:, 21:].groupby(df['Kursy']).sum()"
   ]
  },
  {
   "cell_type": "code",
   "execution_count": 188,
   "metadata": {
    "scrolled": true
   },
   "outputs": [
    {
     "data": {
      "text/html": [
       "<div>\n",
       "<style scoped>\n",
       "    .dataframe tbody tr th:only-of-type {\n",
       "        vertical-align: middle;\n",
       "    }\n",
       "\n",
       "    .dataframe tbody tr th {\n",
       "        vertical-align: top;\n",
       "    }\n",
       "\n",
       "    .dataframe thead th {\n",
       "        text-align: right;\n",
       "    }\n",
       "</style>\n",
       "<table border=\"1\" class=\"dataframe\">\n",
       "  <thead>\n",
       "    <tr style=\"text-align: right;\">\n",
       "      <th></th>\n",
       "      <th>fbi</th>\n",
       "      <th>duzo pytan</th>\n",
       "      <th>podstep g/b cop</th>\n",
       "      <th>nie znam</th>\n",
       "    </tr>\n",
       "    <tr>\n",
       "      <th>Udział w przesłuchaniu</th>\n",
       "      <th></th>\n",
       "      <th></th>\n",
       "      <th></th>\n",
       "      <th></th>\n",
       "    </tr>\n",
       "  </thead>\n",
       "  <tbody>\n",
       "    <tr>\n",
       "      <td>Nie</td>\n",
       "      <td>0</td>\n",
       "      <td>0</td>\n",
       "      <td>0</td>\n",
       "      <td>5</td>\n",
       "    </tr>\n",
       "    <tr>\n",
       "      <td>Tak</td>\n",
       "      <td>17</td>\n",
       "      <td>8</td>\n",
       "      <td>4</td>\n",
       "      <td>39</td>\n",
       "    </tr>\n",
       "  </tbody>\n",
       "</table>\n",
       "</div>"
      ],
      "text/plain": [
       "                        fbi  duzo pytan  podstep g/b cop  nie znam\n",
       "Udział w przesłuchaniu                                            \n",
       "Nie                       0           0                0         5\n",
       "Tak                      17           8                4        39"
      ]
     },
     "execution_count": 188,
     "metadata": {},
     "output_type": "execute_result"
    }
   ],
   "source": [
    "df.iloc[:, 21:].groupby(df['Udział w przesłuchaniu']).sum()"
   ]
  },
  {
   "cell_type": "code",
   "execution_count": 189,
   "metadata": {},
   "outputs": [
    {
     "data": {
      "text/html": [
       "<div>\n",
       "<style scoped>\n",
       "    .dataframe tbody tr th:only-of-type {\n",
       "        vertical-align: middle;\n",
       "    }\n",
       "\n",
       "    .dataframe tbody tr th {\n",
       "        vertical-align: top;\n",
       "    }\n",
       "\n",
       "    .dataframe thead th {\n",
       "        text-align: right;\n",
       "    }\n",
       "</style>\n",
       "<table border=\"1\" class=\"dataframe\">\n",
       "  <thead>\n",
       "    <tr style=\"text-align: right;\">\n",
       "      <th></th>\n",
       "      <th>fbi</th>\n",
       "      <th>duzo pytan</th>\n",
       "      <th>podstep g/b cop</th>\n",
       "      <th>nie znam</th>\n",
       "    </tr>\n",
       "    <tr>\n",
       "      <th>umiejetnosci teoretyczne</th>\n",
       "      <th></th>\n",
       "      <th></th>\n",
       "      <th></th>\n",
       "      <th></th>\n",
       "    </tr>\n",
       "  </thead>\n",
       "  <tbody>\n",
       "    <tr>\n",
       "      <td>Nie</td>\n",
       "      <td>4</td>\n",
       "      <td>1</td>\n",
       "      <td>3</td>\n",
       "      <td>12</td>\n",
       "    </tr>\n",
       "    <tr>\n",
       "      <td>Tak</td>\n",
       "      <td>13</td>\n",
       "      <td>7</td>\n",
       "      <td>1</td>\n",
       "      <td>32</td>\n",
       "    </tr>\n",
       "  </tbody>\n",
       "</table>\n",
       "</div>"
      ],
      "text/plain": [
       "                          fbi  duzo pytan  podstep g/b cop  nie znam\n",
       "umiejetnosci teoretyczne                                            \n",
       "Nie                         4           1                3        12\n",
       "Tak                        13           7                1        32"
      ]
     },
     "execution_count": 189,
     "metadata": {},
     "output_type": "execute_result"
    }
   ],
   "source": [
    "df.iloc[:, 21:].groupby(df['umiejetnosci teoretyczne']).sum()"
   ]
  },
  {
   "cell_type": "code",
   "execution_count": 190,
   "metadata": {},
   "outputs": [
    {
     "data": {
      "text/html": [
       "<div>\n",
       "<style scoped>\n",
       "    .dataframe tbody tr th:only-of-type {\n",
       "        vertical-align: middle;\n",
       "    }\n",
       "\n",
       "    .dataframe tbody tr th {\n",
       "        vertical-align: top;\n",
       "    }\n",
       "\n",
       "    .dataframe thead th {\n",
       "        text-align: right;\n",
       "    }\n",
       "</style>\n",
       "<table border=\"1\" class=\"dataframe\">\n",
       "  <thead>\n",
       "    <tr style=\"text-align: right;\">\n",
       "      <th></th>\n",
       "      <th>fbi</th>\n",
       "      <th>duzo pytan</th>\n",
       "      <th>podstep g/b cop</th>\n",
       "      <th>nie znam</th>\n",
       "    </tr>\n",
       "    <tr>\n",
       "      <th>stos. Przemocy</th>\n",
       "      <th></th>\n",
       "      <th></th>\n",
       "      <th></th>\n",
       "      <th></th>\n",
       "    </tr>\n",
       "  </thead>\n",
       "  <tbody>\n",
       "    <tr>\n",
       "      <td>Nie</td>\n",
       "      <td>6</td>\n",
       "      <td>5</td>\n",
       "      <td>1</td>\n",
       "      <td>15</td>\n",
       "    </tr>\n",
       "    <tr>\n",
       "      <td>Tak</td>\n",
       "      <td>0</td>\n",
       "      <td>0</td>\n",
       "      <td>0</td>\n",
       "      <td>1</td>\n",
       "    </tr>\n",
       "    <tr>\n",
       "      <td>W uzasadnionych przypadkach</td>\n",
       "      <td>11</td>\n",
       "      <td>3</td>\n",
       "      <td>3</td>\n",
       "      <td>28</td>\n",
       "    </tr>\n",
       "  </tbody>\n",
       "</table>\n",
       "</div>"
      ],
      "text/plain": [
       "                             fbi  duzo pytan  podstep g/b cop  nie znam\n",
       "stos. Przemocy                                                         \n",
       "Nie                            6           5                1        15\n",
       "Tak                            0           0                0         1\n",
       "W uzasadnionych przypadkach   11           3                3        28"
      ]
     },
     "execution_count": 190,
     "metadata": {},
     "output_type": "execute_result"
    }
   ],
   "source": [
    "df.iloc[:, 21:].groupby(df['stos. Przemocy']).sum()"
   ]
  },
  {
   "cell_type": "code",
   "execution_count": 191,
   "metadata": {
    "scrolled": true
   },
   "outputs": [
    {
     "data": {
      "text/html": [
       "<div>\n",
       "<style scoped>\n",
       "    .dataframe tbody tr th:only-of-type {\n",
       "        vertical-align: middle;\n",
       "    }\n",
       "\n",
       "    .dataframe tbody tr th {\n",
       "        vertical-align: top;\n",
       "    }\n",
       "\n",
       "    .dataframe thead th {\n",
       "        text-align: right;\n",
       "    }\n",
       "</style>\n",
       "<table border=\"1\" class=\"dataframe\">\n",
       "  <thead>\n",
       "    <tr style=\"text-align: right;\">\n",
       "      <th></th>\n",
       "      <th>fbi</th>\n",
       "      <th>duzo pytan</th>\n",
       "      <th>podstep g/b cop</th>\n",
       "      <th>nie znam</th>\n",
       "    </tr>\n",
       "    <tr>\n",
       "      <th>wywieranie presji</th>\n",
       "      <th></th>\n",
       "      <th></th>\n",
       "      <th></th>\n",
       "      <th></th>\n",
       "    </tr>\n",
       "  </thead>\n",
       "  <tbody>\n",
       "    <tr>\n",
       "      <td>Może</td>\n",
       "      <td>8</td>\n",
       "      <td>3</td>\n",
       "      <td>4</td>\n",
       "      <td>15</td>\n",
       "    </tr>\n",
       "    <tr>\n",
       "      <td>Nie</td>\n",
       "      <td>4</td>\n",
       "      <td>2</td>\n",
       "      <td>0</td>\n",
       "      <td>6</td>\n",
       "    </tr>\n",
       "    <tr>\n",
       "      <td>Tak</td>\n",
       "      <td>5</td>\n",
       "      <td>3</td>\n",
       "      <td>0</td>\n",
       "      <td>23</td>\n",
       "    </tr>\n",
       "  </tbody>\n",
       "</table>\n",
       "</div>"
      ],
      "text/plain": [
       "                   fbi  duzo pytan  podstep g/b cop  nie znam\n",
       "wywieranie presji                                            \n",
       "Może                 8           3                4        15\n",
       "Nie                  4           2                0         6\n",
       "Tak                  5           3                0        23"
      ]
     },
     "execution_count": 191,
     "metadata": {},
     "output_type": "execute_result"
    }
   ],
   "source": [
    "df.iloc[:, 21:].groupby(df['wywieranie presji']).sum()"
   ]
  },
  {
   "cell_type": "code",
   "execution_count": 192,
   "metadata": {
    "scrolled": false
   },
   "outputs": [
    {
     "data": {
      "text/html": [
       "<div>\n",
       "<style scoped>\n",
       "    .dataframe tbody tr th:only-of-type {\n",
       "        vertical-align: middle;\n",
       "    }\n",
       "\n",
       "    .dataframe tbody tr th {\n",
       "        vertical-align: top;\n",
       "    }\n",
       "\n",
       "    .dataframe thead th {\n",
       "        text-align: right;\n",
       "    }\n",
       "</style>\n",
       "<table border=\"1\" class=\"dataframe\">\n",
       "  <thead>\n",
       "    <tr style=\"text-align: right;\">\n",
       "      <th></th>\n",
       "      <th>fbi</th>\n",
       "      <th>duzo pytan</th>\n",
       "      <th>podstep g/b cop</th>\n",
       "      <th>nie znam</th>\n",
       "    </tr>\n",
       "    <tr>\n",
       "      <th>wiekszosc podejrzanych kłamie</th>\n",
       "      <th></th>\n",
       "      <th></th>\n",
       "      <th></th>\n",
       "      <th></th>\n",
       "    </tr>\n",
       "  </thead>\n",
       "  <tbody>\n",
       "    <tr>\n",
       "      <td>Może</td>\n",
       "      <td>2</td>\n",
       "      <td>0</td>\n",
       "      <td>0</td>\n",
       "      <td>0</td>\n",
       "    </tr>\n",
       "    <tr>\n",
       "      <td>Nie</td>\n",
       "      <td>2</td>\n",
       "      <td>2</td>\n",
       "      <td>0</td>\n",
       "      <td>7</td>\n",
       "    </tr>\n",
       "    <tr>\n",
       "      <td>Tak</td>\n",
       "      <td>13</td>\n",
       "      <td>6</td>\n",
       "      <td>4</td>\n",
       "      <td>37</td>\n",
       "    </tr>\n",
       "  </tbody>\n",
       "</table>\n",
       "</div>"
      ],
      "text/plain": [
       "                               fbi  duzo pytan  podstep g/b cop  nie znam\n",
       "wiekszosc podejrzanych kłamie                                            \n",
       "Może                             2           0                0         0\n",
       "Nie                              2           2                0         7\n",
       "Tak                             13           6                4        37"
      ]
     },
     "execution_count": 192,
     "metadata": {},
     "output_type": "execute_result"
    }
   ],
   "source": [
    "df.iloc[:, 21:].groupby(df['wiekszosc podejrzanych kłamie']).sum()"
   ]
  },
  {
   "cell_type": "markdown",
   "metadata": {},
   "source": [
    "# 10. Dane demograficzne"
   ]
  },
  {
   "cell_type": "code",
   "execution_count": 193,
   "metadata": {},
   "outputs": [
    {
     "data": {
      "text/plain": [
       "Mężczyzna    63\n",
       "Kobieta      25\n",
       "Name: Płeć, dtype: int64"
      ]
     },
     "execution_count": 193,
     "metadata": {},
     "output_type": "execute_result"
    }
   ],
   "source": [
    "# 88 ankietowanych\n",
    "# wykresy i ew przeliczenia na %% to juz sobie poradzisz\n",
    "df.Płeć.value_counts()"
   ]
  },
  {
   "cell_type": "code",
   "execution_count": 194,
   "metadata": {},
   "outputs": [
    {
     "data": {
      "text/plain": [
       "26-35         42\n",
       "36-45         32\n",
       "18-25          7\n",
       "Powyżej 45     7\n",
       "Name: Wiek, dtype: int64"
      ]
     },
     "execution_count": 194,
     "metadata": {},
     "output_type": "execute_result"
    }
   ],
   "source": [
    "df.Wiek.value_counts()"
   ]
  },
  {
   "cell_type": "code",
   "execution_count": 196,
   "metadata": {},
   "outputs": [
    {
     "data": {
      "text/plain": [
       "10 - 15        28\n",
       "Powyżej 15     22\n",
       "6 - 10         17\n",
       "2 - 5          14\n",
       "Poniżej 2       5\n",
       "Nie dotyczy     2\n",
       "Name: Ilość lat służby, dtype: int64"
      ]
     },
     "execution_count": 196,
     "metadata": {},
     "output_type": "execute_result"
    }
   ],
   "source": [
    "df['Ilość lat służby'].value_counts()"
   ]
  }
 ],
 "metadata": {
  "kernelspec": {
   "display_name": "Python 3",
   "language": "python",
   "name": "python3"
  },
  "language_info": {
   "codemirror_mode": {
    "name": "ipython",
    "version": 3
   },
   "file_extension": ".py",
   "mimetype": "text/x-python",
   "name": "python",
   "nbconvert_exporter": "python",
   "pygments_lexer": "ipython3",
   "version": "3.7.4"
  }
 },
 "nbformat": 4,
 "nbformat_minor": 2
}
